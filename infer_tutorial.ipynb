{
 "cells": [
  {
   "cell_type": "markdown",
   "id": "ec0e96ff",
   "metadata": {},
   "source": [
    "2022-04-15 이주형"
   ]
  },
  {
   "cell_type": "markdown",
   "id": "7f019bce",
   "metadata": {},
   "source": [
    "라이브러리 import 부분"
   ]
  },
  {
   "cell_type": "code",
   "execution_count": null,
   "id": "c48963f5",
   "metadata": {},
   "outputs": [],
   "source": [
    "import argparse\n",
    "import torch\n",
    "import os\n",
    "# from model.MobileNet_V3 import *\n",
    "\n",
    "import torchvision.transforms as transforms\n",
    "import numpy as np\n",
    "from sklearn.metrics import confusion_matrix, ConfusionMatrixDisplay\n",
    "from PIL import Image\n",
    "import torchvision.datasets as datasets\n",
    "import matplotlib.pyplot as plt\n",
    "from utils.transforms import transforms_test, NormalizePerImage\n",
    "import glob\n",
    "import shutil"
   ]
  },
  {
   "cell_type": "markdown",
   "id": "d403b1bc",
   "metadata": {},
   "source": [
    "## argument 파싱 부분\n",
    "\n",
    "args.data: infer 할 데이터셋의 위치입니다. 기본적으로 data/test로 설정되어있습니다.\\\n",
    "args.workers: data I/O처리시 multi-processing 의 병렬 갯수 부분.\\\n",
    "args.batch_size: 미니배치 갯수.\\\n",
    "args.model: 모델파일 path입니다. infer.py 의 위치를 기준으로 상대위치를 찾습니다. train.py코드는 기본적으로 infer.py와 동일한 path에 모델파일을 저장하기 때문에 따로 옮기지 않는 이상 폴더를 지정해주지 않아도 됩니다.\\\n",
    "args.results: 결과***폴더***의 이름입니다. 본 폴더와 동일한 이름으로 폴더가 있다면 해당 폴더안의 모든것을 지우고 다시 생성시킵니다 (line 32~34, 원하시면 수정하시면 됩니다).\\\n",
    "args.num_categories: class 갯수입니다. ai-hub 감정인식 데이터 기준으로 하여 디폴트 값은 7 입니다.\\\n",
    "args.image: ***본 코드에서 가장 중요한 부분입니다.***\\\n",
    "args.image는 1) None (기본), 2) ```'fault_finder'```, 3) 얼굴영상 path 의 3가지 값을 넣을 수 있습니다.\n",
    "1) None의 경우:\n",
    " args.data 아래아래의 모든 영상들을 추론하여 정확도를 계산합니다.\\\n",
    " PyTorch의 convention대로, args.data아래에는 클래스명의 폴더들이 있고 각 폴더 아래에 영상들이 있게됩니다.\n",
    "2) ```'fault_finder'```의 경우:\n",
    " args.data 아래(라인 37 또는 40에서 명시된 ```EMOTION```의 이름으로 된 폴더)아래(```*.jpg```)의 모든 영상들에서 feed-forward를 수행한 뒤, 정답지와 비교해 틀린 영상들에 대해 ```os.path.join(args.results, f\"fault_finder.csv\")```에 명시합니다.\n",
    "\n",
    "3) 얼굴영상 path:\n",
    " 해당 영상 한장에 대한 feed-forward만을 수행하여 결과(확률)과 모델이 판단한 감정명을 console에 띄워줍니다.\n",
    "\n",
    "args.gpu: gpu 번호\\\n",
    "args.if_display_cm: ```args.image```를 ```None```을 선택했을 경우, confusion matrix를 계산하여 ```os.path.join(args.results, f\"{os.path.basename(args.model.replace('.pth.tar',''))}.csv\")``` 에 저장합니다."
   ]
  },
  {
   "cell_type": "code",
   "execution_count": null,
   "id": "8bd8008b",
   "metadata": {},
   "outputs": [],
   "source": [
    "parser = argparse.ArgumentParser(description='Emotion inference from cropped face image')\n",
    "parser.add_argument('--data', type=str, default='data/test')\n",
    "# parser.add_argument('--data', type=str, default='/home/keti/FER_AR/codes/FER/data/faces_extracted')\n",
    "parser.add_argument('--workers', default=16, type=int, help='number of data loading workers (default: 16)')\n",
    "parser.add_argument('--batch-size', default=256, type=int, help='number of mini batch size (default: 256)')\n",
    "parser.add_argument('--model', type=str, default='mobilenet_v3_small_model_best.pth.tar')\n",
    "parser.add_argument('--results', type=str, default='results')\n",
    "parser.add_argument('--num-categories', default=7, type=int, help='number of categories (default: 7)')\n",
    "# parser.add_argument('--image', type=str, default='data/test/중립/10.jpg')\n",
    "parser.add_argument('--image', type=str, default=None)\n",
    "parser.add_argument('--gpu', type=int, default=0)\n",
    "parser.add_argument('--if-display-cm', action='store_true', help='If display confusion matrix heatmap')"
   ]
  },
  {
   "cell_type": "markdown",
   "id": "9101d588",
   "metadata": {},
   "source": [
    "args.results를 지우고 다시 생성합니다.\\\n",
    "EMOTION은 ```args.image```가 ```'fault_finder'``` 일 때, 사용됩니다 (바로 윗 블록 참조)"
   ]
  },
  {
   "cell_type": "code",
   "execution_count": null,
   "id": "19c344e9",
   "metadata": {},
   "outputs": [],
   "source": [
    "def main():\n",
    "    args = parser.parse_args()\n",
    "\n",
    "    if os.path.isdir(args.results):\n",
    "        shutil.rmtree(args.results)\n",
    "    os.mkdir(args.results)\n",
    "\n",
    "    if args.num_categories == 3:\n",
    "        EMOTION = ['기쁨', '중립', '슬픔']\n",
    "        EMOTION_eng = ['HAPPY', 'NEUTRAL', 'SAD']\n",
    "    elif args.num_categories == 7:\n",
    "        EMOTION = ['기쁨', '당황', '분노', '불안', '상처', '슬픔', '중립']\n",
    "        EMOTION_eng = ['HAPPY', 'EMBARRASED', 'ANGRY', 'ANXIOUS', 'HURT', 'SAD', 'NEUTRAL']"
   ]
  },
  {
   "cell_type": "markdown",
   "id": "ccc27689",
   "metadata": {},
   "source": [
    "모델 instance 생성 부분입니다.\\\n",
    "num_classes가 클래스 갯수를 의미합니다.\\\n",
    "5가지 모델 이외의 모델은 현재 사용하고 있지 않습니다 (예, ResNet)"
   ]
  },
  {
   "cell_type": "code",
   "execution_count": null,
   "id": "6b51a62d",
   "metadata": {},
   "outputs": [],
   "source": [
    "    top1 = AverageMeter('Acc@1', ':6.2f')\n",
    "    if 'effnetv2_s' in os.path.basename(args.model):\n",
    "        import model.efficientNetV2 as models\n",
    "        model = models.__dict__['effnetv2_s'](num_classes = args.num_categories)\n",
    "    elif 'effnetv2_m' in os.path.basename(args.model):\n",
    "        import model.efficientNetV2 as models\n",
    "        model = models.__dict__['effnetv2_m'](num_classes = args.num_categories)\n",
    "    elif 'effnetv2_l' in os.path.basename(args.model):\n",
    "        import model.efficientNetV2 as models\n",
    "        model = models.__dict__['effnetv2_l'](num_classes = args.num_categories)\n",
    "    elif 'mobilenet_v3_small' in os.path.basename(args.model):\n",
    "        import torchvision.models as models\n",
    "        model = models.__dict__['mobilenet_v3_small'](num_classes=args.num_categories)\n",
    "    elif 'mobilenet_v3_large' in os.path.basename(args.model):\n",
    "        import torchvision.models as models\n",
    "        model = models.__dict__['mobilenet_v3_large'](num_classes=args.num_categories)\n",
    "    else:\n",
    "        raise ValueError('Invalid model !!!')"
   ]
  },
  {
   "cell_type": "code",
   "execution_count": null,
   "id": "18730192",
   "metadata": {},
   "outputs": [],
   "source": [
    "    torch.cuda.set_device(args.gpu)\n",
    "    \n",
    "    # 명시된 gpu로의 모델 카피\n",
    "    model = model.cuda(args.gpu)\n",
    "    # args.model 에서 모델weight 을 불러와서 args.gpu에 카피.\n",
    "    checkpoint = torch.load(args.model, map_location=f'cuda:{args.gpu}')\n",
    "    # 위에서 카피된 모델weight를 gpu로 카피된 모델에 로딩시킴\n",
    "    model.load_state_dict(checkpoint['state_dict'])\n",
    "    # 훈련이 아니므로 eval 모드로 전환\n",
    "    model.eval()"
   ]
  },
  {
   "cell_type": "markdown",
   "id": "a5dc1c79",
   "metadata": {},
   "source": [
    "## args.image == None\n",
    "\n",
    "args.data 아래아래의 모든 영상들을 추론하여 정확도를 계산합니다.\\\n",
    "PyTorch의 convention대로, args.data아래에는 클래스명의 폴더들이 있고 각 폴더 아래에 영상들이 있게됩니다.\\\n",
    "추론은 fp-16으로 이루어 집니다.\\\n",
    "그라디언트를 disable시키고 dataloader에서 영상과 정답지를 tuple로 읽어와 gpu에 복사하고 모델에 feed-forward를 수행한뒤 y_pred에 추론된 감정 index, y_true에는 정답지를 extend 시킵니다.\\\n",
    "\n",
    "args.if_display_cm 이 만일 켜져있다면 confucion matrix를 1) ```matplotlib.pyplot```을 통해 보여주고, 2) numpy로 저장하고(파일명이 좀 이상?), 3) ```os.path.join(args.results, f\"{os.path.basename(args.model.replace('.pth.tar',''))}.csv\")```에 csv파일로 저장합니다.\\\n",
    "\n",
    "마지막으로 console에 test 정확도를 보여줍니다."
   ]
  },
  {
   "cell_type": "code",
   "execution_count": null,
   "id": "77203817",
   "metadata": {},
   "outputs": [],
   "source": [
    "    if args.image == None:\n",
    "        dataset = datasets.ImageFolder(args.data, transform=transforms_test())\n",
    "        dataloader = torch.utils.data.DataLoader(dataset, batch_size=args.batch_size, shuffle=False, num_workers=args.workers, pin_memory=True)\n",
    "\n",
    "        # model = mobilenet_v3_large(pretrained=True, num_classes=7)\n",
    "        # checkpoint = torch.load(args.model)\n",
    "        # model.load_state_dict(checkpoint['state_dict'])\n",
    "        y_pred = []\n",
    "        y_true = []\n",
    "\n",
    "        with torch.no_grad():\n",
    "            with torch.cuda.amp.autocast():\n",
    "                for i, (images, target) in enumerate(dataloader):\n",
    "                    if args.gpu is not None:\n",
    "                        images = images.cuda(args.gpu, non_blocking=True)\n",
    "                    if torch.cuda.is_available():\n",
    "                        target = target.cuda(args.gpu, non_blocking=True)\n",
    "\n",
    "                    output = model(images)\n",
    "                    y_pred.extend(torch.argmax(output, dim=1).tolist())\n",
    "                    y_true.extend(target.tolist())\n",
    "                    acc1, _ = accuracy(output, target, topk=(1, 2))\n",
    "                    top1.update(acc1[0], images.size(0))\n",
    "\n",
    "        cm = confusion_matrix(y_true, y_pred, labels=list(range(args.num_categories)))\n",
    "        if args.if_display_cm:\n",
    "            disp = ConfusionMatrixDisplay(confusion_matrix=cm, display_labels = EMOTION_eng)\n",
    "            disp.plot()\n",
    "            plt.show()\n",
    "        np.savetxt(os.path.join(args.results, f\"{os.path.basename(args.model.replace('.pth.tar',''))}.csv\"), cm, delimiter=\",\",fmt ='%u')\n",
    "        with open(os.path.join(args.results, f\"{os.path.basename(args.model.replace('.pth.tar',''))}.csv\"), 'a') as f:\n",
    "            f.write(f'\\n\\ntest acc (%): {round(top1.avg.item(), 2)}\\n\\n\\n')"
   ]
  },
  {
   "cell_type": "markdown",
   "id": "6d1c9567",
   "metadata": {},
   "source": [
    "## args.image == 'fault_finder'\n",
    "\n",
    "```os.path.join(args.results, f\"fault_finder.csv\")```를 새로 만듭니다\\\n",
    "args.data 아래(라인 37 또는 40에서 명시된 ```EMOTION```의 이름으로 된 폴더)아래(```*.jpg```)의 모든 영상들에서 feed-forward를 수행한 뒤, 정답지와 비교해 틀린 영상들에 대해 ```os.path.join(args.results, f\"fault_finder.csv\")```에 명시합니다.\\\n",
    "주의할 점은 영상의 확장자가 ```jpg```여야 한다는 점입니다."
   ]
  },
  {
   "cell_type": "code",
   "execution_count": null,
   "id": "83dd96c3",
   "metadata": {},
   "outputs": [],
   "source": [
    "    elif args.image == 'fault_finder':\n",
    "        if os.path.isdir(os.path.join(args.results, f\"fault_finder.csv\")):\n",
    "            shutil.rmtree(os.path.join(args.results, f\"fault_finder.csv\"))\n",
    "\n",
    "        transform = transforms_test()\n",
    "\n",
    "        for i, emo in enumerate(EMOTION):\n",
    "            with open(os.path.join(args.results, f\"fault_finder.csv\"), 'a') as f:\n",
    "                f.write(f'\\n{emo}\\n')\n",
    "            for path in glob.glob(args.data+f'/{emo}/*.jpg'):\n",
    "                img = Image.open(path)\n",
    "                img = torch.unsqueeze(transform(img).cuda(args.gpu, non_blocking=True), 0)\n",
    "\n",
    "                with torch.no_grad():\n",
    "                    output = model(img)\n",
    "                    idx_pred = torch.argmax(output)\n",
    "                    if i != idx_pred:\n",
    "                        with open(os.path.join(args.results, f\"fault_finder.csv\"), 'a') as f:\n",
    "                            f.write(f'{os.path.basename(path)}\\n')\n"
   ]
  },
  {
   "cell_type": "markdown",
   "id": "a1b15d0a",
   "metadata": {},
   "source": [
    "## args.image == 얼굴영상 path\n",
    "\n",
    "영상을 명시된 gpu에 복사하고 feed-forward를 거쳐 logit을 output에 저장하고, softmax를 거쳐 확률값을 prob에 저장해줍니다.\\\n",
    "최종적으로 결과(확률)와 모델이 판단한 감정명을 console창에 띄워줍니다."
   ]
  },
  {
   "cell_type": "code",
   "execution_count": null,
   "id": "647857a0",
   "metadata": {},
   "outputs": [],
   "source": [
    "    else:\n",
    "        transform = transforms_test()\n",
    "        # img = io.imread(args.image)\n",
    "        img = Image.open(args.image)\n",
    "        img = torch.unsqueeze(transform(img).cuda(args.gpu, non_blocking=True), 0)\n",
    "\n",
    "        with torch.no_grad():\n",
    "            output = model(img)\n",
    "            prob = torch.nn.functional.softmax(output)\n",
    "            emotion_dict = {}\n",
    "            for i, em in enumerate(EMOTION):\n",
    "                emotion_dict[em] = round(prob.tolist()[0][i]*100,2)\n",
    "            # emotion_dict['']\n",
    "            print(f'결과(확률): {emotion_dict}')\n",
    "            print(f'감정: {EMOTION[torch.argmax(output)]}')"
   ]
  },
  {
   "cell_type": "markdown",
   "id": "34b7f6b0",
   "metadata": {},
   "source": [
    "건들일 필요가 없는 부분입니다."
   ]
  },
  {
   "cell_type": "code",
   "execution_count": null,
   "id": "c1447ae2",
   "metadata": {},
   "outputs": [],
   "source": [
    "class AverageMeter(object):\n",
    "    \"\"\"Computes and stores the average and current value\"\"\"\n",
    "    def __init__(self, name, fmt=':f'):\n",
    "        self.name = name\n",
    "        self.fmt = fmt\n",
    "        self.reset()\n",
    "\n",
    "    def reset(self):\n",
    "        self.val = 0\n",
    "        self.avg = 0\n",
    "        self.sum = 0\n",
    "        self.count = 0\n",
    "\n",
    "    def update(self, val, n=1):\n",
    "        self.val = val\n",
    "        self.sum += val * n\n",
    "        self.count += n\n",
    "        self.avg = self.sum / self.count\n",
    "\n",
    "    def __str__(self):\n",
    "        fmtstr = '{name} {val' + self.fmt + '} ({avg' + self.fmt + '})'\n",
    "        return fmtstr.format(**self.__dict__)\n",
    "\n",
    "\n",
    "class ProgressMeter(object):\n",
    "    def __init__(self, num_batches, meters, prefix=\"\"):\n",
    "        self.batch_fmtstr = self._get_batch_fmtstr(num_batches)\n",
    "        self.meters = meters\n",
    "        self.prefix = prefix\n",
    "\n",
    "    def display(self, batch):\n",
    "        entries = [self.prefix + self.batch_fmtstr.format(batch)]\n",
    "        entries += [str(meter) for meter in self.meters]\n",
    "        print('\\t'.join(entries))\n",
    "\n",
    "    def _get_batch_fmtstr(self, num_batches):\n",
    "        num_digits = len(str(num_batches // 1))\n",
    "        fmt = '{:' + str(num_digits) + 'd}'\n",
    "        return '[' + fmt + '/' + fmt.format(num_batches) + ']'\n",
    "\n",
    "\n",
    "\n",
    "def accuracy(output, target, topk=(1,)):\n",
    "    \"\"\"Computes the accuracy over the k top predictions for the specified values of k\"\"\"\n",
    "    with torch.no_grad():\n",
    "        maxk = max(topk)\n",
    "        batch_size = target.size(0)\n",
    "\n",
    "        _, pred = output.topk(maxk, 1, True, True)\n",
    "        # if maxk == 1:                           웃음 두가지 하나로 할때\n",
    "        #     for i, p in enumerate(pred):\n",
    "        #         if p == 2:\n",
    "        #             pred[i]=1\n",
    "        pred = pred.t()\n",
    "        correct = pred.eq(target.view(1, -1).expand_as(pred))\n",
    "\n",
    "        res = []\n",
    "        for k in topk:\n",
    "            correct_k = correct[:k].reshape(-1).float().sum(0, keepdim=True)\n",
    "            res.append(correct_k.mul_(100.0 / batch_size))\n",
    "        return res"
   ]
  },
  {
   "cell_type": "markdown",
   "id": "caeb1c8b",
   "metadata": {},
   "source": [
    "본 파일을 메인 함수로 계산합니다."
   ]
  },
  {
   "cell_type": "code",
   "execution_count": null,
   "id": "84b18c7c",
   "metadata": {},
   "outputs": [],
   "source": [
    "if __name__ == '__main__':\n",
    "    main()\n"
   ]
  }
 ],
 "metadata": {
  "kernelspec": {
   "display_name": "Python 3 (ipykernel)",
   "language": "python",
   "name": "python3"
  },
  "language_info": {
   "codemirror_mode": {
    "name": "ipython",
    "version": 3
   },
   "file_extension": ".py",
   "mimetype": "text/x-python",
   "name": "python",
   "nbconvert_exporter": "python",
   "pygments_lexer": "ipython3",
   "version": "3.8.13"
  }
 },
 "nbformat": 4,
 "nbformat_minor": 5
}
